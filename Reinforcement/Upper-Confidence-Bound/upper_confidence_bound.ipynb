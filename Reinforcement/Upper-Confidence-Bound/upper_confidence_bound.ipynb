{
  "nbformat": 4,
  "nbformat_minor": 0,
  "metadata": {
    "colab": {
      "provenance": [],
      "include_colab_link": true
    },
    "kernelspec": {
      "name": "python3",
      "display_name": "Python 3"
    }
  },
  "cells": [
    {
      "cell_type": "markdown",
      "metadata": {
        "id": "view-in-github",
        "colab_type": "text"
      },
      "source": [
        "<a href=\"https://colab.research.google.com/github/Prathamesh-chougale-17/Abstract-of-Machine-Learning-course/blob/main/Reinforcement/Upper-Confidence-Bound/upper_confidence_bound.ipynb\" target=\"_parent\"><img src=\"https://colab.research.google.com/assets/colab-badge.svg\" alt=\"Open In Colab\"/></a>"
      ]
    },
    {
      "cell_type": "markdown",
      "metadata": {
        "id": "QJdrJJQUv3-k"
      },
      "source": [
        "# Upper Confidence Bound (UCB)"
      ]
    },
    {
      "cell_type": "markdown",
      "metadata": {
        "id": "2XCjepjJwEv-"
      },
      "source": [
        "## Importing the libraries"
      ]
    },
    {
      "cell_type": "code",
      "metadata": {
        "id": "l_mBkG3YwNTt"
      },
      "source": [
        "import numpy as np\n",
        "import matplotlib.pyplot as plt\n",
        "import pandas as pd"
      ],
      "execution_count": 9,
      "outputs": []
    },
    {
      "cell_type": "markdown",
      "metadata": {
        "id": "npqlXjaNwYTv"
      },
      "source": [
        "## Importing the dataset"
      ]
    },
    {
      "cell_type": "code",
      "metadata": {
        "id": "HMJfUVLVwcFc"
      },
      "source": [
        "dataset = pd.read_csv('Ads_CTR_Optimisation.csv')"
      ],
      "execution_count": 10,
      "outputs": []
    },
    {
      "cell_type": "markdown",
      "metadata": {
        "id": "PaSbots_wfoB"
      },
      "source": [
        "## Implementing UCB"
      ]
    },
    {
      "cell_type": "code",
      "source": [
        "import math"
      ],
      "metadata": {
        "id": "H0RCWU4JeAa-"
      },
      "execution_count": 11,
      "outputs": []
    },
    {
      "cell_type": "code",
      "source": [
        "N = 1000\n",
        "d = 10\n",
        "ad_selected = []\n",
        "numbers_of_selections = [0]*d\n",
        "sum_of_rewards=[]\n",
        "sum_of_rewards = [0]*d\n",
        "total_reward = 0\n",
        "for n in range(0 ,N):\n",
        "  ad = 0\n",
        "  max_upper_bound = 0\n",
        "  for i in range(0,d):\n",
        "    if(numbers_of_selections[i]):\n",
        "      average_reward = sum_of_rewards[i]/numbers_of_selections[i]\n",
        "      delta_i = math.sqrt(3/2*(math.log(n+1)/numbers_of_selections[i]))\n",
        "      upper_bound = average_reward + delta_i\n",
        "    else:\n",
        "      upper_bound = 1e400\n",
        "    # max_upper_bound = max(upper_bound,max_upper_bound)\n",
        "    if(upper_bound>max_upper_bound):\n",
        "      max_upper_bound=upper_bound\n",
        "      ad = i\n",
        "  ad_selected.append(ad)\n",
        "  numbers_of_selections[ad]+=1\n",
        "  reward = dataset.values[n,ad]\n",
        "  sum_of_rewards[ad]+=dataset.values[n,ad]\n",
        "  total_reward = total_reward +reward"
      ],
      "metadata": {
        "id": "0to8BswsMfNc"
      },
      "execution_count": 12,
      "outputs": []
    },
    {
      "cell_type": "markdown",
      "metadata": {
        "id": "AXftWcjDwsYj"
      },
      "source": [
        "## Visualising the results"
      ]
    },
    {
      "cell_type": "code",
      "source": [
        "plt.hist(ad_selected)\n",
        "plt.title(\"Histogram of ads selection\")\n",
        "plt.xlabel(\"Ads\")\n",
        "plt.ylabel(\"Number of times each ad was selected\")\n",
        "plt.show()"
      ],
      "metadata": {
        "colab": {
          "base_uri": "https://localhost:8080/",
          "height": 472
        },
        "id": "Hmhe49hGjtC6",
        "outputId": "5ea17ac8-62ac-4380-a5c2-253e54aa5da2"
      },
      "execution_count": 13,
      "outputs": [
        {
          "output_type": "display_data",
          "data": {
            "text/plain": [
              "<Figure size 640x480 with 1 Axes>"
            ],
            "image/png": "[encoded data removed]"
          },
          "metadata": {}
        }
      ]
    }
  ]
}