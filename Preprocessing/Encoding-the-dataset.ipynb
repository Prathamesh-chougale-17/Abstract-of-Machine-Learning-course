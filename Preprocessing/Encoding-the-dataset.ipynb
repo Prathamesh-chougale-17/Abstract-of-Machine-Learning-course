{
  "nbformat": 4,
  "nbformat_minor": 0,
  "metadata": {
    "colab": {
      "provenance": [],
      "mount_file_id": "1ImoidPtula8VWbfpcyxOeAl87fV7uu2h",
      "authorship_tag": "ABX9TyOi9HmO/yuDczu8IqQ9CNvg",
      "include_colab_link": true
    },
    "kernelspec": {
      "name": "python3",
      "display_name": "Python 3"
    },
    "language_info": {
      "name": "python"
    }
  },
  "cells": [
    {
      "cell_type": "markdown",
      "metadata": {
        "id": "view-in-github",
        "colab_type": "text"
      },
      "source": [
        "<a href=\"https://colab.research.google.com/github/Prathamesh-chougale-17/Machine-Learning-course/blob/main/Preprocessing/Encoding-the-dataset.ipynb\" target=\"_parent\"><img src=\"https://colab.research.google.com/assets/colab-badge.svg\" alt=\"Open In Colab\"/></a>"
      ]
    },
    {
      "cell_type": "markdown",
      "source": [
        "# BASIC"
      ],
      "metadata": {
        "id": "EnOFN49K6sQg"
      }
    },
    {
      "cell_type": "markdown",
      "source": [
        " Importing the libraries\n",
        "\n",
        "\n"
      ],
      "metadata": {
        "id": "Use8mE0BFq7n"
      }
    },
    {
      "cell_type": "code",
      "execution_count": 3,
      "metadata": {
        "id": "iGIV_41Kzyd3"
      },
      "outputs": [],
      "source": [
        "import numpy as np\n",
        "import matplotlib.pyplot as plt\n",
        "import pandas as pd"
      ]
    },
    {
      "cell_type": "markdown",
      "source": [
        "Import the dataset"
      ],
      "metadata": {
        "id": "aiYnm3UYGzJg"
      }
    },
    {
      "cell_type": "code",
      "source": [
        "dataset = pd.read_csv(\"Data.csv\")\n",
        "X = dataset.iloc[:,:-1].values\n",
        "# in iloc [:(selecting all rows),:-1(selecting all coloum except last one)]\n",
        "Y = dataset.iloc[:,-1]\n",
        "# in this one [:(selecting all rows),-1 (selecting last column)]\n"
      ],
      "metadata": {
        "id": "c1YGWSuQG5cu"
      },
      "execution_count": 10,
      "outputs": []
    },
    {
      "cell_type": "code",
      "source": [
        "print(X)"
      ],
      "metadata": {
        "colab": {
          "base_uri": "https://localhost:8080/"
        },
        "id": "KUjy-Li0PfuH",
        "outputId": "fbe9abbe-799f-445f-be5f-6b572836d345"
      },
      "execution_count": 11,
      "outputs": [
        {
          "output_type": "stream",
          "name": "stdout",
          "text": [
            "[['France' 44.0 72000.0]\n",
            " ['Spain' 27.0 48000.0]\n",
            " ['Germany' 30.0 54000.0]\n",
            " ['Spain' 38.0 61000.0]\n",
            " ['Germany' 40.0 nan]\n",
            " ['France' 35.0 58000.0]\n",
            " ['Spain' nan 52000.0]\n",
            " ['France' 48.0 79000.0]\n",
            " ['Germany' 50.0 83000.0]\n",
            " ['France' 37.0 67000.0]]\n"
          ]
        }
      ]
    },
    {
      "cell_type": "code",
      "source": [
        "print(Y)"
      ],
      "metadata": {
        "colab": {
          "base_uri": "https://localhost:8080/"
        },
        "id": "0o8ZbLsDPpFr",
        "outputId": "7726c875-27ba-455e-bfb8-b1fce8fba7fa"
      },
      "execution_count": 12,
      "outputs": [
        {
          "output_type": "stream",
          "name": "stdout",
          "text": [
            "0     No\n",
            "1    Yes\n",
            "2     No\n",
            "3     No\n",
            "4    Yes\n",
            "5    Yes\n",
            "6     No\n",
            "7    Yes\n",
            "8     No\n",
            "9    Yes\n",
            "Name: Purchased, dtype: object\n"
          ]
        }
      ]
    },
    {
      "cell_type": "markdown",
      "source": [
        "Taking care of missing data"
      ],
      "metadata": {
        "id": "uQQ4kdCkXjdH"
      }
    },
    {
      "cell_type": "code",
      "source": [
        "# we can handle missing values values by many ways\n",
        "# 1. if dataset have less number of missing values or 1% of missing values then we can remove those\n",
        "# 2. we can take average of other data and replace it with the null values\n",
        "\n",
        "# sciket-learn is one of the best data science library that include many data-preprocessing tools and for handling the missing data\n"
      ],
      "metadata": {
        "id": "MszlAMm1XhAv"
      },
      "execution_count": null,
      "outputs": []
    },
    {
      "cell_type": "code",
      "source": [
        "from sklearn.impute import SimpleImputer\n",
        "imputer = SimpleImputer(missing_values = np.nan,strategy='mean')\n",
        "imputer.fit(X[:,1:3])\n",
        "# fit will find average of the column and it only accept all Numbericals values in subdataset (X)\n",
        "X[:,1:3]=imputer.transform(X[:,1:3])\n",
        "# transform will replace the nan column"
      ],
      "metadata": {
        "id": "VkxrW_eQZK5p"
      },
      "execution_count": 14,
      "outputs": []
    },
    {
      "cell_type": "code",
      "source": [
        "print(X)"
      ],
      "metadata": {
        "colab": {
          "base_uri": "https://localhost:8080/"
        },
        "id": "4gWA5kPgcn6G",
        "outputId": "de184047-1a89-4bff-b550-550fedb75554"
      },
      "execution_count": 15,
      "outputs": [
        {
          "output_type": "stream",
          "name": "stdout",
          "text": [
            "[['France' 44.0 72000.0]\n",
            " ['Spain' 27.0 48000.0]\n",
            " ['Germany' 30.0 54000.0]\n",
            " ['Spain' 38.0 61000.0]\n",
            " ['Germany' 40.0 63777.77777777778]\n",
            " ['France' 35.0 58000.0]\n",
            " ['Spain' 38.77777777777778 52000.0]\n",
            " ['France' 48.0 79000.0]\n",
            " ['Germany' 50.0 83000.0]\n",
            " ['France' 37.0 67000.0]]\n"
          ]
        }
      ]
    },
    {
      "cell_type": "markdown",
      "source": [
        "# Encoding categorical data"
      ],
      "metadata": {
        "id": "JDXQ3dXDXiLB"
      }
    },
    {
      "cell_type": "markdown",
      "source": [
        "Encoding the Independent Variable"
      ],
      "metadata": {
        "id": "_31CYaIM5u-O"
      }
    },
    {
      "cell_type": "code",
      "source": [
        "from sklearn.compose import ColumnTransformer\n",
        "from sklearn.preprocessing import OneHotEncoder"
      ],
      "metadata": {
        "id": "LNdh9VyX4r6s"
      },
      "execution_count": 19,
      "outputs": []
    },
    {
      "cell_type": "code",
      "source": [
        "ct = ColumnTransformer(transformers=[(\"encoder\",OneHotEncoder(),[0])],remainder=\"passthrough\")\n",
        "X = np.array(ct.fit_transform(X))"
      ],
      "metadata": {
        "id": "C1cY6kIN63o9"
      },
      "execution_count": 20,
      "outputs": []
    },
    {
      "cell_type": "code",
      "source": [
        "print(X)"
      ],
      "metadata": {
        "colab": {
          "base_uri": "https://localhost:8080/"
        },
        "id": "N4yCCGbD84Ud",
        "outputId": "fc052a23-7911-4625-e238-7899a4573512"
      },
      "execution_count": 21,
      "outputs": [
        {
          "output_type": "stream",
          "name": "stdout",
          "text": [
            "[[1.0 0.0 0.0 44.0 72000.0]\n",
            " [0.0 0.0 1.0 27.0 48000.0]\n",
            " [0.0 1.0 0.0 30.0 54000.0]\n",
            " [0.0 0.0 1.0 38.0 61000.0]\n",
            " [0.0 1.0 0.0 40.0 63777.77777777778]\n",
            " [1.0 0.0 0.0 35.0 58000.0]\n",
            " [0.0 0.0 1.0 38.77777777777778 52000.0]\n",
            " [1.0 0.0 0.0 48.0 79000.0]\n",
            " [0.0 1.0 0.0 50.0 83000.0]\n",
            " [1.0 0.0 0.0 37.0 67000.0]]\n"
          ]
        }
      ]
    }
  ]
}